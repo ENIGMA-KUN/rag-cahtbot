{
 "cells": [
  {
   "cell_type": "markdown",
   "metadata": {},
   "source": [
    "## Extract Text from PDF"
   ]
  },
  {
   "cell_type": "code",
   "execution_count": 1,
   "metadata": {},
   "outputs": [
    {
     "name": "stdout",
     "output_type": "stream",
     "text": [
      "Text extraction completed successfully.\n"
     ]
    }
   ],
   "source": [
    "import fitz  # PyMuPDF\n",
    "\n",
    "# Open the PDF file\n",
    "pdf_document = \"policy-booklet-0923.pdf\"\n",
    "document = fitz.open(pdf_document)\n",
    "\n",
    "# Extract text from each page\n",
    "text = \"\"\n",
    "for page_num in range(document.page_count):\n",
    "    page = document.load_page(page_num)\n",
    "    text += page.get_text()\n",
    "\n",
    "# Save the text to a file for further processing\n",
    "with open(\"extracted_text.txt\", \"w\", encoding=\"utf-8\") as file:\n",
    "    file.write(text)\n",
    "\n",
    "print(\"Text extraction completed successfully.\")\n"
   ]
  },
  {
   "cell_type": "markdown",
   "metadata": {},
   "source": [
    "## Constructing the Dataset"
   ]
  },
  {
   "cell_type": "code",
   "execution_count": 2,
   "metadata": {},
   "outputs": [
    {
     "name": "stdout",
     "output_type": "stream",
     "text": [
      "Dataset created and saved successfully.\n"
     ]
    }
   ],
   "source": [
    "import pandas as pd\n",
    "\n",
    "# Expanded dataset structure with 30 query-response pairs\n",
    "data = {\n",
    "    \"query\": [\n",
    "        \"What is covered under Section 1?\",\n",
    "        \"How to make a claim?\",\n",
    "        \"What is DriveSure?\",\n",
    "        \"Who is covered to drive other cars?\",\n",
    "        \"What is the cover for windscreen damage?\",\n",
    "        \"What is not included in my cover?\",\n",
    "        \"Does Churchill have approved repairers?\",\n",
    "        \"What is the difference between commuting and business use?\",\n",
    "        \"Can I use my car abroad?\",\n",
    "        \"Are my electric car’s charging cables covered?\",\n",
    "        \"Is my electric car battery covered?\",\n",
    "        \"What should I do if I need to claim?\",\n",
    "        \"How does Churchill handle repairs?\",\n",
    "        \"What is the coverage for fire and theft?\",\n",
    "        \"What does Motor Legal Cover include?\",\n",
    "        \"What is the Guaranteed Hire Car Plus?\",\n",
    "        \"What is a courtesy car?\",\n",
    "        \"What happens if my car is written off?\",\n",
    "        \"What is covered under Personal Benefits?\",\n",
    "        \"What is the Uninsured Driver Promise?\",\n",
    "        \"What does Vandalism Promise cover?\",\n",
    "        \"How are medical expenses covered?\",\n",
    "        \"What is the new car replacement policy?\",\n",
    "        \"What is the cover for personal belongings?\",\n",
    "        \"What should I do if I’m prosecuted for a motoring offence?\",\n",
    "        \"How does Churchill handle motor contract disputes?\",\n",
    "        \"What does accidental damage cover?\",\n",
    "        \"What should I do if my car keys are lost or damaged?\",\n",
    "        \"What is the coverage for misfuelling?\",\n",
    "        \"What are the territorial limits of the policy?\"\n",
    "    ],\n",
    "    \"response\": [\n",
    "        \"Section 1 covers liability to other people, including injuries and property damage caused by an accident involving your car.\",\n",
    "        \"To make a claim, call 0345 878 6261. You'll need your personal details, policy number, car registration number, and a description of the loss or damage.\",\n",
    "        \"DriveSure is a telematics insurance product that captures driving data to provide feedback and potentially lower premiums based on driving behavior.\",\n",
    "        \"Your certificate of motor insurance will show who has cover to drive other cars. This cover is usually limited to third-party liability only.\",\n",
    "        \"The policy covers windscreen damage under Section 5. If you use an approved supplier, the cost of repair or replacement is covered.\",\n",
    "        \"The policy does not cover mechanical or electrical failure, wear and tear, damage to tyres caused by braking, punctures, cuts or bursts, and breakdowns.\",\n",
    "        \"Yes, Churchill customers have access to a national network of approved repairers who handle all aspects of the repair.\",\n",
    "        \"Business use covers driving in connection with a business or employment, while commuting covers driving to and from a permanent place of work.\",\n",
    "        \"You can use your car abroad, but cover depends on the policy type and destination. You may need a Green Card.\",\n",
    "        \"Yes, home chargers and charging cables for electric cars are covered under Section 2 (Fire and Theft) and Section 4 (Accidental Damage).\",\n",
    "        \"Your car’s battery is covered if it’s damaged as a result of an insured incident, regardless of whether it's owned or leased.\",\n",
    "        \"If you need to claim, call the relevant number provided and have your personal details, policy number, and a description of the incident ready.\",\n",
    "        \"Repairs are handled by approved repairers with a 5-year guarantee, or you can choose your own repairer with prior approval from Churchill.\",\n",
    "        \"Fire and theft coverage includes repair or replacement of your car if it's damaged by fire, theft, or attempted theft, up to its market value.\",\n",
    "        \"Motor Legal Cover includes legal costs for accidents, motor contract disputes, and motoring offences up to £100,000 if included in your policy.\",\n",
    "        \"Guaranteed Hire Car Plus provides a hire car similar to yours if your car is damaged, written off, or stolen, up to 21 days.\",\n",
    "        \"A courtesy car is a small hatchback provided temporarily while your car is being repaired by an approved repairer.\",\n",
    "        \"If your car is written off, Churchill will settle the claim and take ownership of the car. You must provide the registration document.\",\n",
    "        \"Personal Benefits cover new car replacement, personal belongings, medical expenses, and personal accident benefits.\",\n",
    "        \"The Uninsured Driver Promise ensures that if an uninsured driver hits you, your No Claim Discount is unaffected and excess is refunded.\",\n",
    "        \"The Vandalism Promise covers damage caused by vandalism and does not affect your No Claim Discount. A police report is required.\",\n",
    "        \"Medical expenses for injuries from an accident are covered up to specified limits, provided no other policy covers these costs.\",\n",
    "        \"New car replacement is offered if your car is stolen or written off within a year (or two years for Comprehensive Plus) of purchase.\",\n",
    "        \"Personal belongings in the car are covered for loss or damage due to fire, theft, or accident up to specified limits.\",\n",
    "        \"Motor Legal Cover provides legal representation for motoring offences, but does not cover parking, obstruction, or waiting offences.\",\n",
    "        \"Churchill handles motor contract disputes involving buying or selling your car, or hiring goods or services for your car.\",\n",
    "        \"Accidental damage cover includes repair or replacement of your car if it's accidentally damaged, up to its market value.\",\n",
    "        \"If your car keys are lost or damaged, Churchill will cover the cost of repair or replacement, including locksmith charges.\",\n",
    "        \"Coverage for misfuelling includes damage caused by using the wrong fuel but does not cover the cost of draining and flushing the fuel.\",\n",
    "        \"The territorial limits of the policy include Great Britain, Northern Ireland, the Channel Islands, and the Isle of Man.\"\n",
    "    ]\n",
    "}\n",
    "\n",
    "# Create DataFrame and save to CSV\n",
    "df = pd.DataFrame(data)\n",
    "df.to_csv(\"dataset.csv\", index=False)\n",
    "\n",
    "print(\"Dataset created and saved successfully.\")\n"
   ]
  },
  {
   "cell_type": "markdown",
   "metadata": {},
   "source": [
    "## Implementing the RAG Model"
   ]
  },
  {
   "cell_type": "code",
   "execution_count": 4,
   "metadata": {},
   "outputs": [
    {
     "name": "stderr",
     "output_type": "stream",
     "text": [
      "c:\\Users\\chakr\\Documents\\GitHub\\rag-cahtbot\\myenv\\Lib\\site-packages\\tqdm\\auto.py:21: TqdmWarning: IProgress not found. Please update jupyter and ipywidgets. See https://ipywidgets.readthedocs.io/en/stable/user_install.html\n",
      "  from .autonotebook import tqdm as notebook_tqdm\n",
      "c:\\Users\\chakr\\Documents\\GitHub\\rag-cahtbot\\myenv\\Lib\\site-packages\\huggingface_hub\\file_download.py:1132: FutureWarning: `resume_download` is deprecated and will be removed in version 1.0.0. Downloads always resume when possible. If you want to force a new download, use `force_download=True`.\n",
      "  warnings.warn(\n",
      "The tokenizer class you load from this checkpoint is not the same type as the class this function is called from. It may result in unexpected tokenization. \n",
      "The tokenizer class you load from this checkpoint is 'RagTokenizer'. \n",
      "The class this function is called from is 'DPRQuestionEncoderTokenizer'.\n",
      "The tokenizer class you load from this checkpoint is not the same type as the class this function is called from. It may result in unexpected tokenization. \n",
      "The tokenizer class you load from this checkpoint is 'RagTokenizer'. \n",
      "The class this function is called from is 'DPRQuestionEncoderTokenizerFast'.\n",
      "The tokenizer class you load from this checkpoint is not the same type as the class this function is called from. It may result in unexpected tokenization. \n",
      "The tokenizer class you load from this checkpoint is 'RagTokenizer'. \n",
      "The class this function is called from is 'BartTokenizer'.\n",
      "The tokenizer class you load from this checkpoint is not the same type as the class this function is called from. It may result in unexpected tokenization. \n",
      "The tokenizer class you load from this checkpoint is 'RagTokenizer'. \n",
      "The class this function is called from is 'BartTokenizerFast'.\n"
     ]
    },
    {
     "ename": "ImportError",
     "evalue": "\nRagRetriever requires the 🤗 Datasets library but it was not found in your environment. You can install it with:\n```\npip install datasets\n```\nIn a notebook or a colab, you can install it by executing a cell with\n```\n!pip install datasets\n```\nthen restarting your kernel.\n\nNote that if you have a local folder named `datasets` or a local python file named `datasets.py` in your current\nworking directory, python may try to import this instead of the 🤗 Datasets library. You should rename this folder or\nthat python file if that's the case. Please note that you may need to restart your runtime after installation.\n\nRagRetriever requires the faiss library but it was not found in your environment. Checkout the instructions on the\ninstallation page of its repo: https://github.com/facebookresearch/faiss/blob/master/INSTALL.md and follow the ones\nthat match your environment. Please note that you may need to restart your runtime after installation.\n",
     "output_type": "error",
     "traceback": [
      "\u001b[1;31m---------------------------------------------------------------------------\u001b[0m",
      "\u001b[1;31mImportError\u001b[0m                               Traceback (most recent call last)",
      "Cell \u001b[1;32mIn[4], line 6\u001b[0m\n\u001b[0;32m      4\u001b[0m \u001b[38;5;66;03m# Load the pretrained model and tokenizer\u001b[39;00m\n\u001b[0;32m      5\u001b[0m tokenizer \u001b[38;5;241m=\u001b[39m RagTokenizer\u001b[38;5;241m.\u001b[39mfrom_pretrained(\u001b[38;5;124m\"\u001b[39m\u001b[38;5;124mfacebook/rag-sequence-nq\u001b[39m\u001b[38;5;124m\"\u001b[39m)\n\u001b[1;32m----> 6\u001b[0m retriever \u001b[38;5;241m=\u001b[39m \u001b[43mRagRetriever\u001b[49m\u001b[38;5;241;43m.\u001b[39;49m\u001b[43mfrom_pretrained\u001b[49m\u001b[43m(\u001b[49m\u001b[38;5;124;43m\"\u001b[39;49m\u001b[38;5;124;43mfacebook/rag-sequence-nq\u001b[39;49m\u001b[38;5;124;43m\"\u001b[39;49m\u001b[43m)\u001b[49m\n\u001b[0;32m      7\u001b[0m model \u001b[38;5;241m=\u001b[39m RagSequenceForGeneration\u001b[38;5;241m.\u001b[39mfrom_pretrained(\u001b[38;5;124m\"\u001b[39m\u001b[38;5;124mfacebook/rag-sequence-nq\u001b[39m\u001b[38;5;124m\"\u001b[39m)\n\u001b[0;32m      9\u001b[0m \u001b[38;5;66;03m# Example for a single query\u001b[39;00m\n",
      "File \u001b[1;32mc:\\Users\\chakr\\Documents\\GitHub\\rag-cahtbot\\myenv\\Lib\\site-packages\\transformers\\models\\rag\\retrieval_rag.py:442\u001b[0m, in \u001b[0;36mRagRetriever.from_pretrained\u001b[1;34m(cls, retriever_name_or_path, indexed_dataset, **kwargs)\u001b[0m\n\u001b[0;32m    440\u001b[0m \u001b[38;5;129m@classmethod\u001b[39m\n\u001b[0;32m    441\u001b[0m \u001b[38;5;28;01mdef\u001b[39;00m \u001b[38;5;21mfrom_pretrained\u001b[39m(\u001b[38;5;28mcls\u001b[39m, retriever_name_or_path, indexed_dataset\u001b[38;5;241m=\u001b[39m\u001b[38;5;28;01mNone\u001b[39;00m, \u001b[38;5;241m*\u001b[39m\u001b[38;5;241m*\u001b[39mkwargs):\n\u001b[1;32m--> 442\u001b[0m     \u001b[43mrequires_backends\u001b[49m\u001b[43m(\u001b[49m\u001b[38;5;28;43mcls\u001b[39;49m\u001b[43m,\u001b[49m\u001b[43m \u001b[49m\u001b[43m[\u001b[49m\u001b[38;5;124;43m\"\u001b[39;49m\u001b[38;5;124;43mdatasets\u001b[39;49m\u001b[38;5;124;43m\"\u001b[39;49m\u001b[43m,\u001b[49m\u001b[43m \u001b[49m\u001b[38;5;124;43m\"\u001b[39;49m\u001b[38;5;124;43mfaiss\u001b[39;49m\u001b[38;5;124;43m\"\u001b[39;49m\u001b[43m]\u001b[49m\u001b[43m)\u001b[49m\n\u001b[0;32m    443\u001b[0m     config \u001b[38;5;241m=\u001b[39m kwargs\u001b[38;5;241m.\u001b[39mpop(\u001b[38;5;124m\"\u001b[39m\u001b[38;5;124mconfig\u001b[39m\u001b[38;5;124m\"\u001b[39m, \u001b[38;5;28;01mNone\u001b[39;00m) \u001b[38;5;129;01mor\u001b[39;00m RagConfig\u001b[38;5;241m.\u001b[39mfrom_pretrained(retriever_name_or_path, \u001b[38;5;241m*\u001b[39m\u001b[38;5;241m*\u001b[39mkwargs)\n\u001b[0;32m    444\u001b[0m     rag_tokenizer \u001b[38;5;241m=\u001b[39m RagTokenizer\u001b[38;5;241m.\u001b[39mfrom_pretrained(retriever_name_or_path, config\u001b[38;5;241m=\u001b[39mconfig)\n",
      "File \u001b[1;32mc:\\Users\\chakr\\Documents\\GitHub\\rag-cahtbot\\myenv\\Lib\\site-packages\\transformers\\utils\\import_utils.py:1463\u001b[0m, in \u001b[0;36mrequires_backends\u001b[1;34m(obj, backends)\u001b[0m\n\u001b[0;32m   1461\u001b[0m failed \u001b[38;5;241m=\u001b[39m [msg\u001b[38;5;241m.\u001b[39mformat(name) \u001b[38;5;28;01mfor\u001b[39;00m available, msg \u001b[38;5;129;01min\u001b[39;00m checks \u001b[38;5;28;01mif\u001b[39;00m \u001b[38;5;129;01mnot\u001b[39;00m available()]\n\u001b[0;32m   1462\u001b[0m \u001b[38;5;28;01mif\u001b[39;00m failed:\n\u001b[1;32m-> 1463\u001b[0m     \u001b[38;5;28;01mraise\u001b[39;00m \u001b[38;5;167;01mImportError\u001b[39;00m(\u001b[38;5;124m\"\u001b[39m\u001b[38;5;124m\"\u001b[39m\u001b[38;5;241m.\u001b[39mjoin(failed))\n",
      "\u001b[1;31mImportError\u001b[0m: \nRagRetriever requires the 🤗 Datasets library but it was not found in your environment. You can install it with:\n```\npip install datasets\n```\nIn a notebook or a colab, you can install it by executing a cell with\n```\n!pip install datasets\n```\nthen restarting your kernel.\n\nNote that if you have a local folder named `datasets` or a local python file named `datasets.py` in your current\nworking directory, python may try to import this instead of the 🤗 Datasets library. You should rename this folder or\nthat python file if that's the case. Please note that you may need to restart your runtime after installation.\n\nRagRetriever requires the faiss library but it was not found in your environment. Checkout the instructions on the\ninstallation page of its repo: https://github.com/facebookresearch/faiss/blob/master/INSTALL.md and follow the ones\nthat match your environment. Please note that you may need to restart your runtime after installation.\n"
     ]
    }
   ],
   "source": [
    "from transformers import RagTokenizer, RagRetriever, RagSequenceForGeneration\n",
    "import torch\n",
    "\n",
    "# Load the pretrained model and tokenizer\n",
    "tokenizer = RagTokenizer.from_pretrained(\"facebook/rag-sequence-nq\")\n",
    "retriever = RagRetriever.from_pretrained(\"facebook/rag-sequence-nq\")\n",
    "model = RagSequenceForGeneration.from_pretrained(\"facebook/rag-sequence-nq\")\n",
    "\n",
    "# Example for a single query\n",
    "query = \"What is DriveSure?\"\n",
    "input_dict = tokenizer(query, return_tensors=\"pt\")\n",
    "docs_dict = retriever(input_ids=input_dict[\"input_ids\"], return_tensors=\"pt\")\n",
    "generated = model.generate(context_input_ids=docs_dict[\"context_input_ids\"], context_attention_mask=docs_dict[\"context_attention_mask\"])\n",
    "response = tokenizer.batch_decode(generated, skip_special_tokens=True)\n",
    "\n",
    "print(response)\n"
   ]
  }
 ],
 "metadata": {
  "kernelspec": {
   "display_name": "myenv",
   "language": "python",
   "name": "python3"
  },
  "language_info": {
   "codemirror_mode": {
    "name": "ipython",
    "version": 3
   },
   "file_extension": ".py",
   "mimetype": "text/x-python",
   "name": "python",
   "nbconvert_exporter": "python",
   "pygments_lexer": "ipython3",
   "version": "3.12.4"
  }
 },
 "nbformat": 4,
 "nbformat_minor": 2
}
