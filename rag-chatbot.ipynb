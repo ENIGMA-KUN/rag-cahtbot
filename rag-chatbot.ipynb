{
 "cells": [
  {
   "cell_type": "markdown",
   "metadata": {},
   "source": [
    "## Extract Text from PDF"
   ]
  },
  {
   "cell_type": "code",
   "execution_count": 1,
   "metadata": {},
   "outputs": [
    {
     "name": "stdout",
     "output_type": "stream",
     "text": [
      "Text extraction completed successfully.\n"
     ]
    }
   ],
   "source": [
    "import fitz  \n",
    "\n",
    "\n",
    "pdf_document = \"policy-booklet-0923.pdf\"\n",
    "document = fitz.open(pdf_document)\n",
    "\n",
    "\n",
    "text = \"\"\n",
    "for page_num in range(document.page_count):\n",
    "    page = document.load_page(page_num)\n",
    "    text += page.get_text()\n",
    "\n",
    "\n",
    "with open(\"extracted_text.txt\", \"w\", encoding=\"utf-8\") as file:\n",
    "    file.write(text)\n",
    "\n",
    "print(\"Text extraction completed successfully.\")\n"
   ]
  },
  {
   "cell_type": "markdown",
   "metadata": {},
   "source": [
    "## Constructing the Dataset"
   ]
  },
  {
   "cell_type": "code",
   "execution_count": 2,
   "metadata": {},
   "outputs": [
    {
     "name": "stdout",
     "output_type": "stream",
     "text": [
      "Dataset created and saved successfully.\n"
     ]
    }
   ],
   "source": [
    "import pandas as pd\n",
    "\n",
    "\n",
    "data = {\n",
    "    \"query\": [\n",
    "        \"What is covered under Section 1?\",\n",
    "        \"How to make a claim?\",\n",
    "        \"What is DriveSure?\",\n",
    "        \"Who is covered to drive other cars?\",\n",
    "        \"What is the cover for windscreen damage?\",\n",
    "        \"What is not included in my cover?\",\n",
    "        \"Does Churchill have approved repairers?\",\n",
    "        \"What is the difference between commuting and business use?\",\n",
    "        \"Can I use my car abroad?\",\n",
    "        \"Are my electric car’s charging cables covered?\",\n",
    "        \"Is my electric car battery covered?\",\n",
    "        \"What should I do if I need to claim?\",\n",
    "        \"How does Churchill handle repairs?\",\n",
    "        \"What is the coverage for fire and theft?\",\n",
    "        \"What does Motor Legal Cover include?\",\n",
    "        \"What is the Guaranteed Hire Car Plus?\",\n",
    "        \"What is a courtesy car?\",\n",
    "        \"What happens if my car is written off?\",\n",
    "        \"What is covered under Personal Benefits?\",\n",
    "        \"What is the Uninsured Driver Promise?\",\n",
    "        \"What does Vandalism Promise cover?\",\n",
    "        \"How are medical expenses covered?\",\n",
    "        \"What is the new car replacement policy?\",\n",
    "        \"What is the cover for personal belongings?\",\n",
    "        \"What should I do if I’m prosecuted for a motoring offence?\",\n",
    "        \"How does Churchill handle motor contract disputes?\",\n",
    "        \"What does accidental damage cover?\",\n",
    "        \"What should I do if my car keys are lost or damaged?\",\n",
    "        \"What is the coverage for misfuelling?\",\n",
    "        \"What are the territorial limits of the policy?\"\n",
    "    ],\n",
    "    \"response\": [\n",
    "        \"Section 1 covers liability to other people, including injuries and property damage caused by an accident involving your car.\",\n",
    "        \"To make a claim, call 0345 878 6261. You'll need your personal details, policy number, car registration number, and a description of the loss or damage.\",\n",
    "        \"DriveSure is a telematics insurance product that captures driving data to provide feedback and potentially lower premiums based on driving behavior.\",\n",
    "        \"Your certificate of motor insurance will show who has cover to drive other cars. This cover is usually limited to third-party liability only.\",\n",
    "        \"The policy covers windscreen damage under Section 5. If you use an approved supplier, the cost of repair or replacement is covered.\",\n",
    "        \"The policy does not cover mechanical or electrical failure, wear and tear, damage to tyres caused by braking, punctures, cuts or bursts, and breakdowns.\",\n",
    "        \"Yes, Churchill customers have access to a national network of approved repairers who handle all aspects of the repair.\",\n",
    "        \"Business use covers driving in connection with a business or employment, while commuting covers driving to and from a permanent place of work.\",\n",
    "        \"You can use your car abroad, but cover depends on the policy type and destination. You may need a Green Card.\",\n",
    "        \"Yes, home chargers and charging cables for electric cars are covered under Section 2 (Fire and Theft) and Section 4 (Accidental Damage).\",\n",
    "        \"Your car’s battery is covered if it’s damaged as a result of an insured incident, regardless of whether it's owned or leased.\",\n",
    "        \"If you need to claim, call the relevant number provided and have your personal details, policy number, and a description of the incident ready.\",\n",
    "        \"Repairs are handled by approved repairers with a 5-year guarantee, or you can choose your own repairer with prior approval from Churchill.\",\n",
    "        \"Fire and theft coverage includes repair or replacement of your car if it's damaged by fire, theft, or attempted theft, up to its market value.\",\n",
    "        \"Motor Legal Cover includes legal costs for accidents, motor contract disputes, and motoring offences up to £100,000 if included in your policy.\",\n",
    "        \"Guaranteed Hire Car Plus provides a hire car similar to yours if your car is damaged, written off, or stolen, up to 21 days.\",\n",
    "        \"A courtesy car is a small hatchback provided temporarily while your car is being repaired by an approved repairer.\",\n",
    "        \"If your car is written off, Churchill will settle the claim and take ownership of the car. You must provide the registration document.\",\n",
    "        \"Personal Benefits cover new car replacement, personal belongings, medical expenses, and personal accident benefits.\",\n",
    "        \"The Uninsured Driver Promise ensures that if an uninsured driver hits you, your No Claim Discount is unaffected and excess is refunded.\",\n",
    "        \"The Vandalism Promise covers damage caused by vandalism and does not affect your No Claim Discount. A police report is required.\",\n",
    "        \"Medical expenses for injuries from an accident are covered up to specified limits, provided no other policy covers these costs.\",\n",
    "        \"New car replacement is offered if your car is stolen or written off within a year (or two years for Comprehensive Plus) of purchase.\",\n",
    "        \"Personal belongings in the car are covered for loss or damage due to fire, theft, or accident up to specified limits.\",\n",
    "        \"Motor Legal Cover provides legal representation for motoring offences, but does not cover parking, obstruction, or waiting offences.\",\n",
    "        \"Churchill handles motor contract disputes involving buying or selling your car, or hiring goods or services for your car.\",\n",
    "        \"Accidental damage cover includes repair or replacement of your car if it's accidentally damaged, up to its market value.\",\n",
    "        \"If your car keys are lost or damaged, Churchill will cover the cost of repair or replacement, including locksmith charges.\",\n",
    "        \"Coverage for misfuelling includes damage caused by using the wrong fuel but does not cover the cost of draining and flushing the fuel.\",\n",
    "        \"The territorial limits of the policy include Great Britain, Northern Ireland, the Channel Islands, and the Isle of Man.\"\n",
    "    ]\n",
    "}\n",
    "\n",
    "\n",
    "df = pd.DataFrame(data)\n",
    "df.to_csv(\"dataset.csv\", index=False)\n",
    "\n",
    "print(\"Dataset created and saved successfully.\")\n"
   ]
  }
 ],
 "metadata": {
  "kernelspec": {
   "display_name": "myenv",
   "language": "python",
   "name": "python3"
  },
  "language_info": {
   "codemirror_mode": {
    "name": "ipython",
    "version": 3
   },
   "file_extension": ".py",
   "mimetype": "text/x-python",
   "name": "python",
   "nbconvert_exporter": "python",
   "pygments_lexer": "ipython3",
   "version": "3.12.4"
  }
 },
 "nbformat": 4,
 "nbformat_minor": 2
}
